{
 "cells": [
  {
   "cell_type": "markdown",
   "id": "a73f51e7-12d4-46f7-9cc2-2a4679968e4b",
   "metadata": {},
   "source": [
    "# 03 – Text Cleaning & Feature Enrichment\n",
    "\n",
    "In this notebook, we:\n",
    " - Preprocess event descriptions to reduce noise\n",
    " - Add structured features (e.g. country, fatalities)\n",
    " - Prepare input for modeling"
   ]
  },
  {
   "cell_type": "code",
   "execution_count": null,
   "id": "7522b632-9a86-4046-9ec7-22969c7b88da",
   "metadata": {},
   "outputs": [],
   "source": [
    "import pandas as pd\n",
    "import numpy as np\n",
    "import matplotlib.pyplot as plt\n",
    "import seaborn as sns\n",
    "import re\n",
    "import nltk\n",
    "from nltk.corpus import stopwords\n",
    "import spacy\n",
    "import string"
   ]
  },
  {
   "cell_type": "code",
   "execution_count": 4,
   "id": "5b7ee45a-28a9-48f2-b5cd-7c46c5d6b54e",
   "metadata": {},
   "outputs": [],
   "source": [
    "# Load data\n",
    "df = pd.read_csv(\"acled_sample.csv\")  # or re-query BigQuery\n",
    "df = df[['event_description', 'event_type', 'fatalities', 'country', 'actor1']].dropna()\n",
    "\n",
    "# Make sure target is categorical\n",
    "df['event_type'] = df['event_type'].astype('category')\n",
    "df['label'] = df['event_type'].cat.codes"
   ]
  },
  {
   "cell_type": "code",
   "execution_count": 5,
   "id": "91091bd8-a8e8-486a-9fe3-02f8b7922808",
   "metadata": {},
   "outputs": [
    {
     "data": {
      "text/html": [
       "<div>\n",
       "<style scoped>\n",
       "    .dataframe tbody tr th:only-of-type {\n",
       "        vertical-align: middle;\n",
       "    }\n",
       "\n",
       "    .dataframe tbody tr th {\n",
       "        vertical-align: top;\n",
       "    }\n",
       "\n",
       "    .dataframe thead th {\n",
       "        text-align: right;\n",
       "    }\n",
       "</style>\n",
       "<table border=\"1\" class=\"dataframe\">\n",
       "  <thead>\n",
       "    <tr style=\"text-align: right;\">\n",
       "      <th></th>\n",
       "      <th>event_description</th>\n",
       "      <th>clean_description</th>\n",
       "    </tr>\n",
       "  </thead>\n",
       "  <tbody>\n",
       "    <tr>\n",
       "      <th>0</th>\n",
       "      <td>On 31 December 2020, Al Shabaab threw a hand g...</td>\n",
       "      <td>on december al shabaab threw a hand grenade at...</td>\n",
       "    </tr>\n",
       "    <tr>\n",
       "      <th>1</th>\n",
       "      <td>On 30 December 2020, Al Shabaab militants thre...</td>\n",
       "      <td>on december al shabaab militants threw a hand ...</td>\n",
       "    </tr>\n",
       "    <tr>\n",
       "      <th>2</th>\n",
       "      <td>On 29 December 2020, a remote controlled IED b...</td>\n",
       "      <td>on december a remote controlled ied by al shab...</td>\n",
       "    </tr>\n",
       "    <tr>\n",
       "      <th>3</th>\n",
       "      <td>On 26 December 2020, Al Shabaab militants shot...</td>\n",
       "      <td>on december al shabaab militants shot and kill...</td>\n",
       "    </tr>\n",
       "    <tr>\n",
       "      <th>4</th>\n",
       "      <td>On 26 December 2020, suspected Al Shabaab mili...</td>\n",
       "      <td>on december suspected al shabaab militants thr...</td>\n",
       "    </tr>\n",
       "  </tbody>\n",
       "</table>\n",
       "</div>"
      ],
      "text/plain": [
       "                                   event_description  \\\n",
       "0  On 31 December 2020, Al Shabaab threw a hand g...   \n",
       "1  On 30 December 2020, Al Shabaab militants thre...   \n",
       "2  On 29 December 2020, a remote controlled IED b...   \n",
       "3  On 26 December 2020, Al Shabaab militants shot...   \n",
       "4  On 26 December 2020, suspected Al Shabaab mili...   \n",
       "\n",
       "                                   clean_description  \n",
       "0  on december al shabaab threw a hand grenade at...  \n",
       "1  on december al shabaab militants threw a hand ...  \n",
       "2  on december a remote controlled ied by al shab...  \n",
       "3  on december al shabaab militants shot and kill...  \n",
       "4  on december suspected al shabaab militants thr...  "
      ]
     },
     "execution_count": 5,
     "metadata": {},
     "output_type": "execute_result"
    }
   ],
   "source": [
    "stop_words = set(stopwords.words('english'))\n",
    "nlp = spacy.load(\"en_core_web_sm\")\n",
    "\n",
    "def clean_and_lemmatize(text):\n",
    "    # Lowercase, remove punctuation and numbers\n",
    "    text = re.sub(r'[^\\w\\s]', '', text.lower())\n",
    "    text = re.sub(r'\\d+', '', text)\n",
    "\n",
    "    # Tokenize and lemmatize with spaCy\n",
    "    doc = nlp(text)\n",
    "    tokens = [\n",
    "        token.lemma_ for token in doc \n",
    "        if token.lemma_ not in stop_words and token.lemma_.isalpha()\n",
    "    ]\n",
    "\n",
    "    return \" \".join(tokens)\n",
    "\n",
    "# Apply to dataset\n",
    "df['clean_description'] = df['event_description'].apply(clean_and_lemmatize)\n",
    "\n",
    "# Preview\n",
    "df[['event_description', 'clean_description']].head()\n"
   ]
  }
 ],
 "metadata": {
  "kernelspec": {
   "display_name": "Python 3 (ipykernel)",
   "language": "python",
   "name": "python3"
  },
  "language_info": {
   "codemirror_mode": {
    "name": "ipython",
    "version": 3
   },
   "file_extension": ".py",
   "mimetype": "text/x-python",
   "name": "python",
   "nbconvert_exporter": "python",
   "pygments_lexer": "ipython3",
   "version": "3.13.2"
  }
 },
 "nbformat": 4,
 "nbformat_minor": 5
}
